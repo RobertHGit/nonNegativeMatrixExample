{
 "cells": [
  {
   "cell_type": "code",
   "execution_count": 1,
   "metadata": {},
   "outputs": [],
   "source": [
    "#Import packages\n",
    "import pandas as pd\n",
    "import os"
   ]
  },
  {
   "cell_type": "code",
   "execution_count": 2,
   "metadata": {},
   "outputs": [
    {
     "name": "stdout",
     "output_type": "stream",
     "text": [
      "/Users/roberthommes/PycharmProjects/nmfCaseExample/people_wiki.csv\n",
      "(42786, 3)\n"
     ]
    }
   ],
   "source": [
    "#Import dataset\n",
    "path_to_data = os.path.join(os.getcwd(),\n",
    "                            'people_wiki.csv')\n",
    "\n",
    "articlesURLWiki = pd.read_csv(path_to_data)\n",
    "print(path_to_data)\n",
    "print(articlesURLWiki.shape)"
   ]
  },
  {
   "cell_type": "code",
   "execution_count": 3,
   "metadata": {},
   "outputs": [
    {
     "data": {
      "text/html": [
       "<div>\n",
       "<style scoped>\n",
       "    .dataframe tbody tr th:only-of-type {\n",
       "        vertical-align: middle;\n",
       "    }\n",
       "\n",
       "    .dataframe tbody tr th {\n",
       "        vertical-align: top;\n",
       "    }\n",
       "\n",
       "    .dataframe thead th {\n",
       "        text-align: right;\n",
       "    }\n",
       "</style>\n",
       "<table border=\"1\" class=\"dataframe\">\n",
       "  <thead>\n",
       "    <tr style=\"text-align: right;\">\n",
       "      <th></th>\n",
       "      <th>URI</th>\n",
       "      <th>name</th>\n",
       "      <th>text</th>\n",
       "    </tr>\n",
       "  </thead>\n",
       "  <tbody>\n",
       "    <tr>\n",
       "      <th>0</th>\n",
       "      <td>&lt;http://dbpedia.org/resource/Digby_Morrell&gt;</td>\n",
       "      <td>Digby Morrell</td>\n",
       "      <td>digby morrell born 10 october 1979 is a former...</td>\n",
       "    </tr>\n",
       "    <tr>\n",
       "      <th>1</th>\n",
       "      <td>&lt;http://dbpedia.org/resource/Alfred_J._Lewy&gt;</td>\n",
       "      <td>Alfred J. Lewy</td>\n",
       "      <td>alfred j lewy aka sandy lewy graduated from un...</td>\n",
       "    </tr>\n",
       "    <tr>\n",
       "      <th>2</th>\n",
       "      <td>&lt;http://dbpedia.org/resource/Harpdog_Brown&gt;</td>\n",
       "      <td>Harpdog Brown</td>\n",
       "      <td>harpdog brown is a singer and harmonica player...</td>\n",
       "    </tr>\n",
       "    <tr>\n",
       "      <th>3</th>\n",
       "      <td>&lt;http://dbpedia.org/resource/Franz_Rottensteiner&gt;</td>\n",
       "      <td>Franz Rottensteiner</td>\n",
       "      <td>franz rottensteiner born in waidmannsfeld lowe...</td>\n",
       "    </tr>\n",
       "    <tr>\n",
       "      <th>4</th>\n",
       "      <td>&lt;http://dbpedia.org/resource/G-Enka&gt;</td>\n",
       "      <td>G-Enka</td>\n",
       "      <td>henry krvits born 30 december 1974 in tallinn ...</td>\n",
       "    </tr>\n",
       "  </tbody>\n",
       "</table>\n",
       "</div>"
      ],
      "text/plain": [
       "                                                 URI                 name  \\\n",
       "0        <http://dbpedia.org/resource/Digby_Morrell>        Digby Morrell   \n",
       "1       <http://dbpedia.org/resource/Alfred_J._Lewy>       Alfred J. Lewy   \n",
       "2        <http://dbpedia.org/resource/Harpdog_Brown>        Harpdog Brown   \n",
       "3  <http://dbpedia.org/resource/Franz_Rottensteiner>  Franz Rottensteiner   \n",
       "4               <http://dbpedia.org/resource/G-Enka>               G-Enka   \n",
       "\n",
       "                                                text  \n",
       "0  digby morrell born 10 october 1979 is a former...  \n",
       "1  alfred j lewy aka sandy lewy graduated from un...  \n",
       "2  harpdog brown is a singer and harmonica player...  \n",
       "3  franz rottensteiner born in waidmannsfeld lowe...  \n",
       "4  henry krvits born 30 december 1974 in tallinn ...  "
      ]
     },
     "execution_count": 3,
     "metadata": {},
     "output_type": "execute_result"
    }
   ],
   "source": [
    "articlesURLWiki.head()"
   ]
  },
  {
   "cell_type": "code",
   "execution_count": 4,
   "metadata": {},
   "outputs": [
    {
     "data": {
      "text/html": [
       "<div>\n",
       "<style scoped>\n",
       "    .dataframe tbody tr th:only-of-type {\n",
       "        vertical-align: middle;\n",
       "    }\n",
       "\n",
       "    .dataframe tbody tr th {\n",
       "        vertical-align: top;\n",
       "    }\n",
       "\n",
       "    .dataframe thead th {\n",
       "        text-align: right;\n",
       "    }\n",
       "</style>\n",
       "<table border=\"1\" class=\"dataframe\">\n",
       "  <thead>\n",
       "    <tr style=\"text-align: right;\">\n",
       "      <th></th>\n",
       "      <th>URI</th>\n",
       "      <th>name</th>\n",
       "      <th>text</th>\n",
       "    </tr>\n",
       "  </thead>\n",
       "  <tbody>\n",
       "    <tr>\n",
       "      <th>10042</th>\n",
       "      <td>&lt;http://dbpedia.org/resource/Public_image_of_G...</td>\n",
       "      <td>Public image of George W. Bush</td>\n",
       "      <td>george w bush the 43rd president of the united...</td>\n",
       "    </tr>\n",
       "    <tr>\n",
       "      <th>28441</th>\n",
       "      <td>&lt;http://dbpedia.org/resource/George_W._Bush&gt;</td>\n",
       "      <td>George W. Bush</td>\n",
       "      <td>george walker bush born july 6 1946 is an amer...</td>\n",
       "    </tr>\n",
       "  </tbody>\n",
       "</table>\n",
       "</div>"
      ],
      "text/plain": [
       "                                                     URI  \\\n",
       "10042  <http://dbpedia.org/resource/Public_image_of_G...   \n",
       "28441       <http://dbpedia.org/resource/George_W._Bush>   \n",
       "\n",
       "                                 name  \\\n",
       "10042  Public image of George W. Bush   \n",
       "28441                  George W. Bush   \n",
       "\n",
       "                                                    text  \n",
       "10042  george w bush the 43rd president of the united...  \n",
       "28441  george walker bush born july 6 1946 is an amer...  "
      ]
     },
     "execution_count": 4,
     "metadata": {},
     "output_type": "execute_result"
    }
   ],
   "source": [
    "#find article we need for recommendation\n",
    "POI_name = \"George W. Bush\"\n",
    "articlesURLWiki[articlesURLWiki['name'].str.contains(POI_name)==True]"
   ]
  },
  {
   "cell_type": "code",
   "execution_count": 5,
   "metadata": {},
   "outputs": [],
   "source": [
    "#filter dataset\n",
    "articlesWiki = articlesURLWiki.drop(['URI'], axis=1)\n",
    "articles = articlesWiki.text.tolist()"
   ]
  },
  {
   "cell_type": "code",
   "execution_count": 6,
   "metadata": {},
   "outputs": [
    {
     "name": "stdout",
     "output_type": "stream",
     "text": [
      "-- shape csr_matrix --\n",
      "(42786, 435484)\n"
     ]
    }
   ],
   "source": [
    "# Import TfidfVectorizer\n",
    "from sklearn.feature_extraction.text import TfidfVectorizer\n",
    "\n",
    "# Create a TfidfVectorizer: tfidf\n",
    "TOKENS_ALPHANUMERIC = '[A-Za-z0-9]+(?=\\\\s+)'\n",
    "tfidf = TfidfVectorizer(token_pattern=TOKENS_ALPHANUMERIC) \n",
    "\n",
    "# Apply fit_transform to document: csr_mat\n",
    "csr_mat = tfidf.fit_transform(articles)\n",
    "\n",
    "print('-- shape csr_matrix --')\n",
    "print(csr_mat.shape)\n",
    "\n",
    "# Get the words: words\n",
    "words = tfidf.get_feature_names()"
   ]
  },
  {
   "cell_type": "code",
   "execution_count": 7,
   "metadata": {},
   "outputs": [
    {
     "name": "stdout",
     "output_type": "stream",
     "text": [
      "-- shape nmf_features --\n",
      "(42786, 40)\n",
      "CPU times: user 7min 58s, sys: 25.4 s, total: 8min 24s\n",
      "Wall time: 7min 24s\n"
     ]
    }
   ],
   "source": [
    "%%time\n",
    "# Import NMF\n",
    "from sklearn.decomposition import NMF\n",
    "\n",
    "# Create an NMF instance: model\n",
    "model = NMF(n_components=40)\n",
    "\n",
    "# Fit the model to articles\n",
    "model.fit(csr_mat)\n",
    "\n",
    "# Transform the articles: nmf_features\n",
    "nmf_features = model.transform(csr_mat)\n",
    "\n",
    "print('-- shape nmf_features --')\n",
    "print(nmf_features.shape)"
   ]
  },
  {
   "cell_type": "code",
   "execution_count": 8,
   "metadata": {},
   "outputs": [
    {
     "name": "stdout",
     "output_type": "stream",
     "text": [
      "0     0.009346\n",
      "1     0.000000\n",
      "2     0.000954\n",
      "3     0.001075\n",
      "4     0.011438\n",
      "5     0.000000\n",
      "6     0.041117\n",
      "7     0.000000\n",
      "8     0.000000\n",
      "9     0.003085\n",
      "10    0.000000\n",
      "11    0.025544\n",
      "12    0.000184\n",
      "13    0.000000\n",
      "14    0.001014\n",
      "15    0.000000\n",
      "16    0.011103\n",
      "17    0.001243\n",
      "18    0.000000\n",
      "19    0.000000\n",
      "20    0.003751\n",
      "21    0.007536\n",
      "22    0.000000\n",
      "23    0.000000\n",
      "24    0.000000\n",
      "25    0.000000\n",
      "26    0.016640\n",
      "27    0.001862\n",
      "28    0.000795\n",
      "29    0.011989\n",
      "30    0.000000\n",
      "31    0.000000\n",
      "32    0.002403\n",
      "33    0.000000\n",
      "34    0.000000\n",
      "35    0.000066\n",
      "36    0.000000\n",
      "37    0.001431\n",
      "38    0.013998\n",
      "39    0.000000\n",
      "Name: George W. Bush, dtype: float64\n"
     ]
    }
   ],
   "source": [
    "#Create a pandas DataFrame: df\n",
    "dfNMF_features = pd.DataFrame(nmf_features, index=articlesWiki.name.tolist())\n",
    "\n",
    "# Print the row for POI\n",
    "print(dfNMF_features.loc[POI_name])"
   ]
  },
  {
   "cell_type": "code",
   "execution_count": 9,
   "metadata": {},
   "outputs": [
    {
     "name": "stdout",
     "output_type": "stream",
     "text": [
      "George W. Bush    1.000000\n",
      "Joe Biden         0.968051\n",
      "Jimmy Carter      0.965332\n",
      "dtype: float64\n"
     ]
    }
   ],
   "source": [
    "# Import normalize\n",
    "from sklearn.preprocessing import normalize\n",
    "\n",
    "# Normalize the NMF features: norm_features\n",
    "norm_features = normalize(nmf_features)\n",
    "\n",
    "# Create a DataFrame: df\n",
    "df = pd.DataFrame(norm_features, index=articlesWiki.name.tolist())\n",
    "\n",
    "# Select the row corresponding to POI_name: article\n",
    "article = df.loc[POI_name]\n",
    "\n",
    "# Compute the dot products: similarities\n",
    "similarities = df.dot(article)\n",
    "\n",
    "# Display those with the largest cosine similarity\n",
    "print(similarities.nlargest(3))"
   ]
  },
  {
   "cell_type": "code",
   "execution_count": 10,
   "metadata": {},
   "outputs": [
    {
     "name": "stdout",
     "output_type": "stream",
     "text": [
      "(42786, 435484)\n",
      "(42786, 40)\n",
      "(40, 435484)\n"
     ]
    }
   ],
   "source": [
    "print(csr_mat.shape)\n",
    "print(norm_features.shape)\n",
    "print(model.components_.shape)"
   ]
  }
 ],
 "metadata": {
  "kernelspec": {
   "display_name": "Python 3",
   "language": "python",
   "name": "python3"
  },
  "language_info": {
   "codemirror_mode": {
    "name": "ipython",
    "version": 3
   },
   "file_extension": ".py",
   "mimetype": "text/x-python",
   "name": "python",
   "nbconvert_exporter": "python",
   "pygments_lexer": "ipython3",
   "version": "3.7.0"
  }
 },
 "nbformat": 4,
 "nbformat_minor": 2
}
